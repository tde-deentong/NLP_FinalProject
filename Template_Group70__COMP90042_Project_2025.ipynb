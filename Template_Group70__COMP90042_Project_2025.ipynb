{
  "nbformat": 4,
  "nbformat_minor": 0,
  "metadata": {
    "colab": {
      "provenance": [],
      "include_colab_link": true
    },
    "kernelspec": {
      "name": "python3",
      "display_name": "Python 3"
    },
    "language_info": {
      "name": "python"
    }
  },
  "cells": [
    {
      "cell_type": "markdown",
      "metadata": {
        "id": "view-in-github",
        "colab_type": "text"
      },
      "source": [
        "<a href=\"https://colab.research.google.com/github/tde-deentong/NLP_FinalProject/blob/main/Template_Group70__COMP90042_Project_2025.ipynb\" target=\"_parent\"><img src=\"https://colab.research.google.com/assets/colab-badge.svg\" alt=\"Open In Colab\"/></a>"
      ]
    },
    {
      "cell_type": "markdown",
      "source": [
        "# 2025 COMP90042 Project\n",
        "*Make sure you change the file name with your group id.*"
      ],
      "metadata": {
        "id": "32yCsRUo8H33"
      }
    },
    {
      "cell_type": "markdown",
      "source": [
        "# Readme\n",
        "*If there is something to be noted for the marker, please mention here.*\n",
        "\n",
        "*If you are planning to implement a program with Object Oriented Programming style, please put those the bottom of this ipynb file*"
      ],
      "metadata": {
        "id": "XCybYoGz8YWQ"
      }
    },
    {
      "cell_type": "markdown",
      "source": [
        "# 1.DataSet Processing\n",
        "(You can add as many code blocks and text blocks as you need. However, YOU SHOULD NOT MODIFY the section title)"
      ],
      "metadata": {
        "id": "6po98qVA8bJD"
      }
    },
    {
      "cell_type": "code",
      "source": [],
      "metadata": {
        "id": "qvff21Hv8zjk"
      },
      "execution_count": null,
      "outputs": []
    },
    {
      "cell_type": "markdown",
      "source": [
        "# 2. Model Implementation\n",
        "(You can add as many code blocks and text blocks as you need. However, YOU SHOULD NOT MODIFY the section title)"
      ],
      "metadata": {
        "id": "1FA2ao2l8hOg"
      }
    },
    {
      "cell_type": "code",
      "source": [],
      "metadata": {
        "id": "QIEqDDT78q39"
      },
      "execution_count": null,
      "outputs": []
    },
    {
      "cell_type": "markdown",
      "source": [
        "# 3.Testing and Evaluation\n",
        "(You can add as many code blocks and text blocks as you need. However, YOU SHOULD NOT MODIFY the section title)"
      ],
      "metadata": {
        "id": "EzGuzHPE87Ya"
      }
    },
    {
      "cell_type": "code",
      "source": [],
      "metadata": {
        "id": "6ZVeNYIH9IaL"
      },
      "execution_count": null,
      "outputs": []
    },
    {
      "cell_type": "markdown",
      "source": [
        "## Object Oriented Programming codes here\n",
        "\n",
        "*You can use multiple code snippets. Just add more if needed*"
      ],
      "metadata": {
        "id": "mefSOe8eTmGP"
      }
    },
    {
      "cell_type": "code",
      "source": [],
      "metadata": {
        "id": "kJx3HnDvAEDi"
      },
      "execution_count": null,
      "outputs": []
    }
  ]
}